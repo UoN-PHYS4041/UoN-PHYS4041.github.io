{
 "cells": [
  {
   "cell_type": "code",
   "execution_count": 1,
   "metadata": {},
   "outputs": [
    {
     "ename": "ModuleNotFoundError",
     "evalue": "No module named 'pennylane'",
     "output_type": "error",
     "traceback": [
      "\u001b[0;31m---------------------------------------------------------------------------\u001b[0m",
      "\u001b[0;31mModuleNotFoundError\u001b[0m                       Traceback (most recent call last)",
      "Cell \u001b[0;32mIn[1], line 1\u001b[0m\n\u001b[0;32m----> 1\u001b[0m \u001b[38;5;28;01mimport\u001b[39;00m \u001b[38;5;21;01mpennylane\u001b[39;00m \u001b[38;5;28;01mas\u001b[39;00m \u001b[38;5;21;01mqml\u001b[39;00m\n\u001b[1;32m      3\u001b[0m \u001b[38;5;28;01mimport\u001b[39;00m \u001b[38;5;21;01mnumpy\u001b[39;00m \u001b[38;5;28;01mas\u001b[39;00m \u001b[38;5;21;01mnp\u001b[39;00m\n\u001b[1;32m      5\u001b[0m \u001b[38;5;28;01mfrom\u001b[39;00m \u001b[38;5;21;01mmatplotlib\u001b[39;00m \u001b[38;5;28;01mimport\u001b[39;00m pyplot \u001b[38;5;28;01mas\u001b[39;00m plt\n",
      "\u001b[0;31mModuleNotFoundError\u001b[0m: No module named 'pennylane'"
     ]
    }
   ],
   "source": [
    "import pennylane as qml\n",
    "\n",
    "import numpy as np\n",
    "\n",
    "from matplotlib import pyplot as plt"
   ]
  },
  {
   "cell_type": "code",
   "execution_count": 3,
   "metadata": {},
   "outputs": [],
   "source": [
    "dev = qml.device(\"default.qubit\", wires=2)"
   ]
  },
  {
   "cell_type": "code",
   "execution_count": 4,
   "metadata": {},
   "outputs": [
    {
     "name": "stdout",
     "output_type": "stream",
     "text": [
      "Jx=-0.2288, Jz=-1.0466, Jxx=0.2613, Jzz=0.2356, Jxz=0.2288, C=-3.8505\n",
      "Exact ground state energy is E = -2.8626207640766816\n"
     ]
    }
   ],
   "source": [
    "# Pauli matrices\n",
    "Id = np.eye(2)\n",
    "X = np.array([[0,1],[1,0]])\n",
    "Y = np.array([[0,-1j],[1j,0]])\n",
    "Z = np.array([[1,0],[0,-1]])\n",
    "\n",
    "parameters = np.loadtxt(\"HamiltonianParameters.txt\")\n",
    "\n",
    "R = 90\n",
    "H_param = parameters[parameters[:,0]==R,1:].flatten()\n",
    "\n",
    "C = H_param[0]\n",
    "Jx = H_param[1]\n",
    "Jz = H_param[2]\n",
    "#Jx = H_param[3]\n",
    "Jxx = H_param[4]\n",
    "Jxz = H_param[5]\n",
    "#Jz = H_param[6]\n",
    "#Jzx = H_param[7]\n",
    "Jzz = H_param[8]\n",
    "\n",
    "print(f\"Jx={Jx}, Jz={Jz}, Jxx={Jxx}, Jzz={Jzz}, Jxz={Jxz}, C={C}\")\n",
    "\n",
    "def Hamiltonian():\n",
    "    H = Jx * (np.kron(X,Id) + np.kron(Id,X))\n",
    "    H = H + Jz * (np.kron(Z,Id) + np.kron(Id,Z))\n",
    "    H = H + Jxx * np.kron(X,X)\n",
    "    H = H + Jzz * np.kron(Z,Z)\n",
    "    H = H + Jxz * (np.kron(X,Z) + np.kron(Z,X))\n",
    "    H = H + C * np.kron(Id,Id)\n",
    "\n",
    "    return H/2\n",
    "\n",
    "def exactEnergy():\n",
    "    H = Hamiltonian()\n",
    "\n",
    "    E, V = np.linalg.eigh(H)\n",
    "    return np.min(E)\n",
    "\n",
    "print(f\"Exact ground state energy is E = {exactEnergy()}\")"
   ]
  },
  {
   "cell_type": "code",
   "execution_count": 5,
   "metadata": {},
   "outputs": [],
   "source": [
    "@qml.qnode(dev)\n",
    "def ansatz(angles):\n",
    "    theta = angles[:8]\n",
    "    basis = angles[8:]  # basis has two elements with values 0 or 1\n",
    "\n",
    "    # inital rotations\n",
    "    qml.RX(theta[0], wires=0)\n",
    "    qml.RZ(theta[1], wires=0)\n",
    "    qml.RX(theta[2], wires=1)\n",
    "    qml.RZ(theta[3], wires=1)\n",
    "\n",
    "    # CNOT to entangle\n",
    "    qml.CZ(wires=[0,1])\n",
    "\n",
    "    # second round of rotations\n",
    "    qml.RX(theta[4], wires=0)\n",
    "    qml.RZ(theta[5], wires=0)\n",
    "    qml.RX(theta[6], wires=1)\n",
    "    qml.RZ(theta[7], wires=1)\n",
    "\n",
    "    qml.U3(basis[0]*np.pi/2, 0, basis[0]*np.pi, wires=0)  # apply hadamard gate to qubit 0 iff basis[0]=1\n",
    "    qml.U3(basis[1]*np.pi/2, 0, basis[1]*np.pi, wires=1)  # apply hadamard gate to qubit 1 iff basis[1]=1\n",
    "\n",
    "    return qml.probs(wires=[0,1])"
   ]
  },
  {
   "cell_type": "code",
   "execution_count": 6,
   "metadata": {},
   "outputs": [
    {
     "name": "stdout",
     "output_type": "stream",
     "text": [
      "[0.16713867 0.38551025 0.1743042  0.27304688]\n"
     ]
    },
    {
     "data": {
      "text/plain": [
       "(<Figure size 900x300 with 1 Axes>, <Axes: >)"
      ]
     },
     "execution_count": 6,
     "metadata": {},
     "output_type": "execute_result"
    },
    {
     "data": {
      "image/png": "[encoded data removed]",
      "text/plain": [
       "<Figure size 900x300 with 1 Axes>"
      ]
     },
     "metadata": {},
     "output_type": "display_data"
    }
   ],
   "source": [
    "theta = list(2*np.pi*np.array([0.1,0.2,0.3,0.4,0.5,0.6,0.7,0.8]))\n",
    "angles = theta + [1,1]  # measure in XX basis\n",
    "test_circuit = ansatz(angles, shots=81920)\n",
    "print(test_circuit)\n",
    "\n",
    "qml.drawer.use_style(\"black_white\")\n",
    "qml.draw_mpl(ansatz)(angles)  # plot the circuit diagram"
   ]
  },
  {
   "cell_type": "code",
   "execution_count": 7,
   "metadata": {},
   "outputs": [],
   "source": [
    "def get_expectation(gate, probabilities):\n",
    "    II = np.array([1,1,1,1])\n",
    "    IZ = np.array([1,-1,1,-1])\n",
    "    ZI = np.array([1,1,-1,-1])\n",
    "    ZZ = np.array([1,-1,-1,1])\n",
    "    \n",
    "    probabilities = np.array(probabilities)\n",
    "\n",
    "    if gate == 'II':\n",
    "        return np.dot(II, probabilities)\n",
    "    if gate == 'IZ' or gate == 'IX':\n",
    "        return np.dot(IZ, probabilities)\n",
    "    if gate == 'ZI' or gate == 'XI':\n",
    "        return np.dot(ZI, probabilities)\n",
    "    if gate == 'ZZ' or gate == 'XX' or gate == 'XZ' or gate == 'ZX':\n",
    "        return np.dot(ZZ, probabilities)\n",
    "\n",
    "    return 'Unidentified Gate'"
   ]
  },
  {
   "cell_type": "code",
   "execution_count": 8,
   "metadata": {},
   "outputs": [],
   "source": [
    "def energy(probs_XX, probs_XZ, probs_ZX, probs_ZZ):\n",
    "    \"\"\" \n",
    "    counts - dictionary of measured counts, e.g., {'00': 4096, '11': 4096}\n",
    "    shots - total number of shots for each basis (for convenience. Can be computed from counts)\n",
    "    \"\"\"\n",
    "    # Replace with code to convert counts to expectation values to get energy expectation.\n",
    "\n",
    "    E_H = 0\n",
    "    E_H += Jx*(get_expectation('XI', probs_XX) + get_expectation('IX', probs_XX))\n",
    "    E_H += Jz*(get_expectation('ZI', probs_ZZ) + get_expectation('IZ', probs_ZZ))\n",
    "    E_H += Jxx*get_expectation('XX', probs_XX) \n",
    "    E_H += Jzz*get_expectation('ZZ', probs_ZZ) \n",
    "    E_H += Jxz*(get_expectation('XZ', probs_XZ) + get_expectation('ZX', probs_ZX))\n",
    "    E_H += C\n",
    "    E_H *= 0.5\n",
    "\n",
    "    return E_H"
   ]
  },
  {
   "cell_type": "code",
   "execution_count": 9,
   "metadata": {},
   "outputs": [
    {
     "name": "stdout",
     "output_type": "stream",
     "text": [
      "My energy is E = -1.0873353540039061\n",
      "My batched energy is E = -1.0829947094726562\n",
      "The correct energy (for these parameters) is E = -1.083 ± 0.012 (margin due to finite number of shots)\n"
     ]
    }
   ],
   "source": [
    "# compute the energy of the ansatz circuit for given parameters as a test\n",
    "shots = 81920\n",
    "theta = list(2*np.pi*np.array([0.1,0.2,0.3,0.4,0.5,0.6,0.7,0.8]))\n",
    "\n",
    "probsXX = ansatz(theta + [1,1], shots=shots)\n",
    "probsXZ = ansatz(theta + [1,0], shots=shots)\n",
    "probsZX = ansatz(theta + [0,1], shots=shots)\n",
    "probsZZ = ansatz(theta + [0,0], shots=shots)\n",
    "E_0 = energy(probsXX, probsXZ, probsZX, probsZZ)\n",
    "\n",
    "print(f\"My energy is E = {E_0}\")\n",
    "\n",
    "\n",
    "# compute energy using batching\n",
    "angles = 2*np.pi*np.array([[0.1,0.2,0.3,0.4,0.5,0.6,0.7,0.8]]*4).T\n",
    "angles = np.append(angles,[[1,1,0,0]], axis=0)\n",
    "angles = np.append(angles,[[1,0,1,0]], axis=0)\n",
    "probs = ansatz(angles, shots=shots)\n",
    "E_1 = energy(probs[0], probs[1], probs[2], probs[3])\n",
    "\n",
    "print(f\"My batched energy is E = {E_1}\")\n",
    "\n",
    "print(f\"The correct energy (for these parameters) is E = -1.083 ± 0.012 (margin due to finite number of shots)\")\n"
   ]
  },
  {
   "cell_type": "code",
   "execution_count": 10,
   "metadata": {},
   "outputs": [
    {
     "name": "stdout",
     "output_type": "stream",
     "text": [
      "Energy at iteration 0: -2.152036291503906\n",
      "Energy at iteration 1: -2.2881058715820313\n",
      "Energy at iteration 2: -2.4156275756835934\n",
      "Energy at iteration 3: -2.5276297729492185\n",
      "Energy at iteration 4: -2.6149364379882813\n",
      "Energy at iteration 5: -2.699594775390625\n",
      "Energy at iteration 6: -2.7347163085937503\n",
      "Energy at iteration 7: -2.77460673828125\n",
      "Energy at iteration 8: -2.7949673828124997\n",
      "Energy at iteration 9: -2.8109585327148436\n",
      "Energy at iteration 10: -2.8239617309570315\n",
      "Energy at iteration 11: -2.8259062133789064\n",
      "Energy at iteration 12: -2.834984228515625\n",
      "Energy at iteration 13: -2.8360220703124996\n",
      "Energy at iteration 14: -2.839057434082031\n",
      "Energy at iteration 15: -2.8436322875976563\n",
      "Energy at iteration 16: -2.8464052612304687\n",
      "Energy at iteration 17: -2.8444935913085936\n",
      "Energy at iteration 18: -2.8489498901367187\n",
      "Energy at iteration 19: -2.8531560913085934\n",
      "Energy at iteration 20: -2.857500830078125\n",
      "Energy at iteration 21: -2.853131066894531\n",
      "Energy at iteration 22: -2.8521060546875\n",
      "Energy at iteration 23: -2.8504569091796874\n",
      "Energy at iteration 24: -2.8558048706054686\n",
      "Final energy: -2.854565441894531\n"
     ]
    }
   ],
   "source": [
    "theta = 2*np.pi*np.random.rand(8)  # random initial angle values!\n",
    "c = 0.05*2*np.pi  # c used in approximating the gradient\n",
    "eta = 0.5  # controls the rate of descent\n",
    "shots = 8192\n",
    "\n",
    "energy_list = []\n",
    "\n",
    "iterations = 25\n",
    "\n",
    "for jj in range(iterations):\n",
    "\n",
    "    angles = [[]]*8\n",
    "    basis = [[]]*2\n",
    "    gradient = []\n",
    "    for ii in range(8):\n",
    "        e = np.zeros(8)\n",
    "        e[ii] = 1\n",
    "        theta_plus = theta.copy() + c*e\n",
    "        theta_minus = theta.copy() - c*e\n",
    "\n",
    "        angles = [angles[kk] + [theta_plus[kk]]*4 for kk in range(8)]\n",
    "        basis  = [basis[0] + [1,1,0,0], basis[1] + [1,0,1,0]]\n",
    "        angles = [angles[kk] + [theta_minus[kk]]*4 for kk in range(8)]\n",
    "        basis  = [basis[0] + [1,1,0,0], basis[1] + [1,0,1,0]]\n",
    "\n",
    "    angles = [angles[kk] + [theta[kk]]*4 for kk in range(8)]\n",
    "    basis  = [basis[0] + [1,1,0,0], basis[1] + [1,0,1,0]]\n",
    "\n",
    "    angles = np.array(angles + basis)\n",
    "    probs = ansatz(angles, shots=shots)\n",
    "\n",
    "    for ii in range(8):\n",
    "        E_plus = energy(probs[8*ii], probs[8*ii+1], probs[8*ii+2], probs[8*ii+3])\n",
    "        E_minus = energy(probs[8*ii+4], probs[8*ii+5], probs[8*ii+6], probs[8*ii+7])\n",
    "\n",
    "        gradient.append( (E_plus - E_minus)/(2*c) )  # approximate gradient\n",
    "\n",
    "    energy_list.append(energy(probs[8*8], probs[8*8+1], probs[8*8+2], probs[8*8+3]))\n",
    "\n",
    "    theta = theta - eta*np.array(gradient)  # update the angles using gradient descent!\n",
    "\n",
    "    print(f\"Energy at iteration {jj}: {energy_list[-1]}\")\n",
    "\n",
    "angles = [[theta[kk]]*4 for kk in range(8)]\n",
    "basis  = [[1,1,0,0],[1,0,1,0]]\n",
    "angles = np.array(angles + basis)\n",
    "\n",
    "probs = ansatz(angles, shots=shots)\n",
    "E_final = energy(probs[0], probs[1], probs[2], probs[3])\n",
    "energy_list.append( E_final )  # final energy!\n",
    "\n",
    "print(f\"Final energy: {energy_list[-1]}\")"
   ]
  },
  {
   "cell_type": "code",
   "execution_count": 11,
   "metadata": {},
   "outputs": [
    {
     "name": "stdout",
     "output_type": "stream",
     "text": [
      "angles: [3.38121404 5.87763404 0.21382163 0.82570093 2.94481251 3.41879997\n",
      " 0.18140456 1.55476999]\n"
     ]
    },
    {
     "data": {
      "text/plain": [
       "Text(0.5, 0, 'iteration')"
      ]
     },
     "execution_count": 11,
     "metadata": {},
     "output_type": "execute_result"
    },
    {
     "data": {
      "image/png": "[encoded data removed]",
      "text/plain": [
       "<Figure size 640x480 with 1 Axes>"
      ]
     },
     "metadata": {},
     "output_type": "display_data"
    }
   ],
   "source": [
    "print(f\"angles: {theta}\")\n",
    "# plot the results!\n",
    "plt.plot([0,iterations],[exactEnergy(),exactEnergy()],'--',color='k')\n",
    "plt.plot(energy_list,'o')\n",
    "plt.ylabel('energy')\n",
    "plt.xlabel('iteration')"
   ]
  },
  {
   "cell_type": "code",
   "execution_count": null,
   "metadata": {},
   "outputs": [],
   "source": []
  }
 ],
 "metadata": {
  "kernelspec": {
   "display_name": "phys4041",
   "language": "python",
   "name": "python3"
  },
  "language_info": {
   "codemirror_mode": {
    "name": "ipython",
    "version": 3
   },
   "file_extension": ".py",
   "mimetype": "text/x-python",
   "name": "python",
   "nbconvert_exporter": "python",
   "pygments_lexer": "ipython3",
   "version": "3.11.10"
  }
 },
 "nbformat": 4,
 "nbformat_minor": 2
}