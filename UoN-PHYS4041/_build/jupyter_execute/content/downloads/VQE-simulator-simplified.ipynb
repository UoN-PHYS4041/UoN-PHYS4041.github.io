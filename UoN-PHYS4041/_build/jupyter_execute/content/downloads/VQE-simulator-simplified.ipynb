{
 "cells": [
  {
   "cell_type": "code",
   "execution_count": 1,
   "metadata": {},
   "outputs": [
    {
     "ename": "ModuleNotFoundError",
     "evalue": "No module named 'pennylane'",
     "output_type": "error",
     "traceback": [
      "\u001b[0;31m---------------------------------------------------------------------------\u001b[0m",
      "\u001b[0;31mModuleNotFoundError\u001b[0m                       Traceback (most recent call last)",
      "Cell \u001b[0;32mIn[1], line 1\u001b[0m\n\u001b[0;32m----> 1\u001b[0m \u001b[38;5;28;01mimport\u001b[39;00m \u001b[38;5;21;01mpennylane\u001b[39;00m \u001b[38;5;28;01mas\u001b[39;00m \u001b[38;5;21;01mqml\u001b[39;00m\n\u001b[1;32m      3\u001b[0m \u001b[38;5;28;01mimport\u001b[39;00m \u001b[38;5;21;01mnumpy\u001b[39;00m \u001b[38;5;28;01mas\u001b[39;00m \u001b[38;5;21;01mnp\u001b[39;00m\n\u001b[1;32m      5\u001b[0m \u001b[38;5;28;01mfrom\u001b[39;00m \u001b[38;5;21;01mmatplotlib\u001b[39;00m \u001b[38;5;28;01mimport\u001b[39;00m pyplot \u001b[38;5;28;01mas\u001b[39;00m plt\n",
      "\u001b[0;31mModuleNotFoundError\u001b[0m: No module named 'pennylane'"
     ]
    }
   ],
   "source": [
    "import pennylane as qml\n",
    "\n",
    "import numpy as np\n",
    "\n",
    "from matplotlib import pyplot as plt"
   ]
  },
  {
   "cell_type": "code",
   "execution_count": 2,
   "metadata": {},
   "outputs": [],
   "source": [
    "dev = qml.device(\"default.qubit\", wires=2)"
   ]
  },
  {
   "cell_type": "code",
   "execution_count": 3,
   "metadata": {},
   "outputs": [
    {
     "name": "stdout",
     "output_type": "stream",
     "text": [
      "Jx=-0.2288, Jz=-1.0466, Jxx=0.2613, Jzz=0.2356, Jxz=0.2288, C=-3.8505\n",
      "Exact ground state energy is E = -2.8626207640766816\n"
     ]
    }
   ],
   "source": [
    "# Pauli matrices\n",
    "Id = np.eye(2)\n",
    "X = np.array([[0,1],[1,0]])\n",
    "Y = np.array([[0,-1j],[1j,0]])\n",
    "Z = np.array([[1,0],[0,-1]])\n",
    "\n",
    "parameters = np.loadtxt(\"HamiltonianParameters.txt\")\n",
    "\n",
    "R = 90\n",
    "H_param = parameters[parameters[:,0]==R,1:].flatten()\n",
    "\n",
    "C = H_param[0]\n",
    "Jx = H_param[1]\n",
    "Jz = H_param[2]\n",
    "#Jx = H_param[3]\n",
    "Jxx = H_param[4]\n",
    "Jxz = H_param[5]\n",
    "#Jz = H_param[6]\n",
    "#Jzx = H_param[7]\n",
    "Jzz = H_param[8]\n",
    "\n",
    "print(f\"Jx={Jx}, Jz={Jz}, Jxx={Jxx}, Jzz={Jzz}, Jxz={Jxz}, C={C}\")\n",
    "\n",
    "def Hamiltonian():\n",
    "    H = Jx * (np.kron(X,Id) + np.kron(Id,X))\n",
    "    H = H + Jz * (np.kron(Z,Id) + np.kron(Id,Z))\n",
    "    H = H + Jxx * np.kron(X,X)\n",
    "    H = H + Jzz * np.kron(Z,Z)\n",
    "    H = H + Jxz * (np.kron(X,Z) + np.kron(Z,X))\n",
    "    H = H + C * np.kron(Id,Id)\n",
    "\n",
    "    return H/2\n",
    "\n",
    "def exactEnergy():\n",
    "    H = Hamiltonian()\n",
    "\n",
    "    E, V = np.linalg.eigh(H)\n",
    "    return np.min(E)\n",
    "\n",
    "print(f\"Exact ground state energy is E = {exactEnergy()}\")"
   ]
  },
  {
   "cell_type": "code",
   "execution_count": 4,
   "metadata": {},
   "outputs": [
    {
     "name": "stdout",
     "output_type": "stream",
     "text": [
      "Exact ground state energy is E = -2.8626207640766816\n"
     ]
    }
   ],
   "source": [
    "def H_operator():\n",
    "    H = Jx/2 * (qml.PauliX(0) + qml.PauliX(1))\n",
    "    H = H + Jz/2 * (qml.PauliZ(0) + qml.PauliZ(1))\n",
    "    H = H + Jxx/2 * qml.PauliX(0) @ qml.PauliX(1)\n",
    "    H = H + Jzz/2 * qml.PauliZ(0) @ qml.PauliZ(1)\n",
    "    H = H + Jxz/2 * (qml.PauliX(0) @ qml.PauliZ(1) + qml.PauliZ(0) @ qml.PauliX(1))\n",
    "    H = H + C/2 * qml.Identity(0)\n",
    "\n",
    "    return H\n",
    "\n",
    "H_qml = qml.matrix(H_operator())\n",
    "\n",
    "E, _ = np.linalg.eigh(H_qml)\n",
    "print(f\"Exact ground state energy is E = {np.min(E)}\")\n"
   ]
  },
  {
   "cell_type": "code",
   "execution_count": 5,
   "metadata": {},
   "outputs": [],
   "source": [
    "@qml.qnode(dev)\n",
    "def ansatz(angles):\n",
    "    theta = angles[:8]\n",
    "\n",
    "    # inital rotations\n",
    "    qml.RX(theta[0], wires=0)\n",
    "    qml.RZ(theta[1], wires=0)\n",
    "    qml.RX(theta[2], wires=1)\n",
    "    qml.RZ(theta[3], wires=1)\n",
    "\n",
    "    # CNOT to entangle\n",
    "    qml.CZ(wires=[0,1])\n",
    "\n",
    "    # second round of rotations\n",
    "    qml.RX(theta[4], wires=0)\n",
    "    qml.RZ(theta[5], wires=0)\n",
    "    qml.RX(theta[6], wires=1)\n",
    "    qml.RZ(theta[7], wires=1)\n",
    "\n",
    "    # return all of the expectation values that are needed to compute the energy\n",
    "    return qml.expval(qml.PauliX(0)), qml.expval(qml.PauliX(1)), qml.expval(qml.PauliZ(0)), qml.expval(qml.PauliZ(1)), qml.expval(qml.PauliX(0) @ qml.PauliX(1)), qml.expval(qml.PauliZ(0) @ qml.PauliZ(1)), qml.expval(qml.PauliX(0) @ qml.PauliZ(1)), qml.expval(qml.PauliZ(0) @ qml.PauliX(1))"
   ]
  },
  {
   "cell_type": "code",
   "execution_count": 6,
   "metadata": {},
   "outputs": [],
   "source": [
    "def energy_from_circuit(terms):\n",
    "    # compute the energy from the expectation values\n",
    "    E = 0\n",
    "    E = E + Jx/2 * (terms[0] + terms[1])\n",
    "    E = E + Jz/2 * (terms[2] + terms[3])\n",
    "    E = E + Jxx/2 * terms[4]\n",
    "    E = E + Jzz/2 * terms[5]\n",
    "    E = E + Jxz/2 * (terms[6] + terms[7])\n",
    "    E = E + C/2\n",
    "    return E"
   ]
  },
  {
   "cell_type": "code",
   "execution_count": 7,
   "metadata": {},
   "outputs": [
    {
     "name": "stdout",
     "output_type": "stream",
     "text": [
      "(0.112060546875, -0.329833984375, -0.8097412109375, -0.4995361328125, -0.126953125, 0.658642578125, 0.36044921875, 0.277294921875)\n",
      "-1.0812322851562501\n"
     ]
    },
    {
     "data": {
      "text/plain": [
       "(<Figure size 800x300 with 1 Axes>, <Axes: >)"
      ]
     },
     "execution_count": 7,
     "metadata": {},
     "output_type": "execute_result"
    },
    {
     "data": {
      "image/png": "[encoded data removed]",
      "text/plain": [
       "<Figure size 800x300 with 1 Axes>"
      ]
     },
     "metadata": {},
     "output_type": "display_data"
    }
   ],
   "source": [
    "theta = list(2*np.pi*np.array([0.1,0.2,0.3,0.4,0.5,0.6,0.7,0.8]))\n",
    "angles = theta\n",
    "test_circuit = ansatz(angles, shots=81920)\n",
    "print(test_circuit)\n",
    "print(energy_from_circuit(test_circuit))\n",
    "\n",
    "qml.drawer.use_style(\"black_white\")\n",
    "qml.draw_mpl(ansatz)(angles)  # plot the circuit diagram"
   ]
  },
  {
   "cell_type": "code",
   "execution_count": 8,
   "metadata": {},
   "outputs": [
    {
     "name": "stdout",
     "output_type": "stream",
     "text": [
      "My energy is E = -1.0859016491699218\n",
      "The correct energy (for these parameters) is E = -1.083 ± 0.012 (margin due to finite number of shots)\n"
     ]
    }
   ],
   "source": [
    "# compute the energy of the ansatz circuit for given parameters as a test\n",
    "shots = 81920\n",
    "theta = list(2*np.pi*np.array([0.1,0.2,0.3,0.4,0.5,0.6,0.7,0.8]))\n",
    "\n",
    "expvals = ansatz(theta, shots=shots)\n",
    "E_0 = energy_from_circuit(expvals)\n",
    "\n",
    "print(f\"My energy is E = {E_0}\")\n",
    "\n",
    "print(f\"The correct energy (for these parameters) is E = -1.083 ± 0.012 (margin due to finite number of shots)\")\n"
   ]
  },
  {
   "cell_type": "code",
   "execution_count": 9,
   "metadata": {},
   "outputs": [
    {
     "name": "stdout",
     "output_type": "stream",
     "text": [
      "Energy at iteration 0: -2.1409552490234374\n",
      "Energy at iteration 1: -2.173428576660156\n",
      "Energy at iteration 2: -2.2064468627929688\n",
      "Energy at iteration 3: -2.2368505615234375\n",
      "Energy at iteration 4: -2.290246533203125\n",
      "Energy at iteration 5: -2.3307554931640624\n",
      "Energy at iteration 6: -2.38229873046875\n",
      "Energy at iteration 7: -2.456269445800781\n",
      "Energy at iteration 8: -2.531744738769531\n",
      "Energy at iteration 9: -2.5841414306640624\n",
      "Energy at iteration 10: -2.6515321289062497\n",
      "Energy at iteration 11: -2.6947919189453122\n",
      "Energy at iteration 12: -2.724547265625\n",
      "Energy at iteration 13: -2.7644747436523436\n",
      "Energy at iteration 14: -2.7888011474609375\n",
      "Energy at iteration 15: -2.8109153808593748\n",
      "Energy at iteration 16: -2.822694873046875\n",
      "Energy at iteration 17: -2.822788818359375\n",
      "Energy at iteration 18: -2.8347963134765624\n",
      "Energy at iteration 19: -2.837775048828125\n",
      "Energy at iteration 20: -2.843021423339844\n",
      "Energy at iteration 21: -2.8474131958007813\n",
      "Energy at iteration 22: -2.8523161865234377\n",
      "Energy at iteration 23: -2.854666870117187\n",
      "Energy at iteration 24: -2.8456357910156247\n",
      "Final energy: -2.848233740234375\n",
      "[-2.1409552490234374, -2.173428576660156, -2.2064468627929688, -2.2368505615234375, -2.290246533203125, -2.3307554931640624, -2.38229873046875, -2.456269445800781, -2.531744738769531, -2.5841414306640624, -2.6515321289062497, -2.6947919189453122, -2.724547265625, -2.7644747436523436, -2.7888011474609375, -2.8109153808593748, -2.822694873046875, -2.822788818359375, -2.8347963134765624, -2.837775048828125, -2.843021423339844, -2.8474131958007813, -2.8523161865234377, -2.854666870117187, -2.8456357910156247, -2.848233740234375]\n"
     ]
    }
   ],
   "source": [
    "theta = 2*np.pi*np.random.rand(8)  # random initial angle values!\n",
    "c = 0.05*2*np.pi  # c used in approximating the gradient\n",
    "eta = 0.5  # controls the rate of descent\n",
    "shots = 8192\n",
    "\n",
    "energy_list = []\n",
    "\n",
    "iterations = 25\n",
    "\n",
    "for jj in range(iterations):\n",
    "\n",
    "    angles = [[]]*8\n",
    "    basis = [[]]*2\n",
    "    gradient = []\n",
    "    for ii in range(8):\n",
    "        e = np.zeros(8)\n",
    "        e[ii] = 1\n",
    "        theta_plus = theta.copy() + c*e\n",
    "        theta_minus = theta.copy() - c*e\n",
    "\n",
    "        angles = [angles[kk] + [theta_plus[kk]] for kk in range(8)]\n",
    "        angles = [angles[kk] + [theta_minus[kk]] for kk in range(8)]\n",
    "\n",
    "    angles = [angles[kk] + [theta[kk]] for kk in range(8)]\n",
    "\n",
    "    expvals = ansatz(angles, shots=shots)\n",
    "    expvals = np.array(expvals)\n",
    "\n",
    "    for ii in range(8):\n",
    "        E_plus = energy_from_circuit(expvals[:, 2*ii])\n",
    "        E_minus = energy_from_circuit(expvals[:, 2*ii+1])\n",
    "\n",
    "        gradient.append( (E_plus - E_minus)/(2*c) )  # approximate gradient\n",
    "\n",
    "    energy_list.append(energy_from_circuit(expvals[:,-1]))\n",
    "\n",
    "    theta = theta - eta*np.array(gradient)  # update the angles using gradient descent!\n",
    "\n",
    "    print(f\"Energy at iteration {jj}: {energy_list[-1]}\")\n",
    "\n",
    "angles = [[theta[kk]] for kk in range(8)]\n",
    "\n",
    "expvals = ansatz(angles, shots=shots)\n",
    "E_final = energy_from_circuit(expvals)\n",
    "energy_list.append( E_final )  # final energy!\n",
    "\n",
    "print(f\"Final energy: {energy_list[-1]}\")\n",
    "\n",
    "print(energy_list)"
   ]
  },
  {
   "cell_type": "code",
   "execution_count": 10,
   "metadata": {},
   "outputs": [
    {
     "name": "stdout",
     "output_type": "stream",
     "text": [
      "angles: [2.6601473  0.48368376 5.96525672 3.06615795 3.65331775 4.94687813\n",
      " 0.31095815 5.21916105]\n"
     ]
    },
    {
     "data": {
      "text/plain": [
       "Text(0.5, 0, 'iteration')"
      ]
     },
     "execution_count": 10,
     "metadata": {},
     "output_type": "execute_result"
    },
    {
     "data": {
      "image/png": "[encoded data removed]",
      "text/plain": [
       "<Figure size 640x480 with 1 Axes>"
      ]
     },
     "metadata": {},
     "output_type": "display_data"
    }
   ],
   "source": [
    "print(f\"angles: {theta}\")\n",
    "# plot the results!\n",
    "plt.plot([0,iterations],[exactEnergy(),exactEnergy()],'--',color='k')\n",
    "plt.plot(energy_list,'o')\n",
    "plt.ylabel('energy')\n",
    "plt.xlabel('iteration')"
   ]
  },
  {
   "cell_type": "code",
   "execution_count": null,
   "metadata": {},
   "outputs": [],
   "source": []
  }
 ],
 "metadata": {
  "kernelspec": {
   "display_name": "phys4041",
   "language": "python",
   "name": "python3"
  },
  "language_info": {
   "codemirror_mode": {
    "name": "ipython",
    "version": 3
   },
   "file_extension": ".py",
   "mimetype": "text/x-python",
   "name": "python",
   "nbconvert_exporter": "python",
   "pygments_lexer": "ipython3",
   "version": "3.11.10"
  }
 },
 "nbformat": 4,
 "nbformat_minor": 2
}